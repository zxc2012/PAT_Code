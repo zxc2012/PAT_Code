{
 "nbformat": 4,
 "nbformat_minor": 2,
 "metadata": {
  "language_info": {
   "name": "python",
   "codemirror_mode": {
    "name": "ipython",
    "version": 3
   },
   "version": "3.6.6-final"
  },
  "orig_nbformat": 2,
  "file_extension": ".py",
  "mimetype": "text/x-python",
  "name": "python",
  "npconvert_exporter": "python",
  "pygments_lexer": "ipython3",
  "version": 3,
  "kernelspec": {
   "name": "python36664bitbbe86dc75a9a44949c3accb9dfd5896b",
   "display_name": "Python 3.6.6 64-bit"
  }
 },
 "cells": [
  {
   "cell_type": "code",
   "execution_count": 2,
   "metadata": {},
   "outputs": [
    {
     "name": "stdout",
     "output_type": "stream",
     "text": "[[ 0.          3.14159265  6.28318531  9.42477796]\n [12.56637061 15.70796327 18.84955592 21.99114858]\n [25.13274123 28.27433388 31.41592654 34.55751919]\n [37.69911184 40.8407045  43.98229715 47.1238898 ]]\n0.3601972407718368\n3.1622776601683795\n[(['the', 'wall', 'street', 'journal', 'reported', 'today', 'that', 'apple', 'corporation', 'made', 'money'], ['B', 'I', 'I', 'I', 'O', 'O', 'O', 'B', 'I', 'O', 'O']), (['georgia', 'tech', 'is', 'a', 'university', 'in', 'georgia'], ['B', 'I', 'O', 'O', 'O', 'O', 'B'])]\n"
    }
   ],
   "source": [
    "import numpy as np\n",
    "import random\n",
    "b = np.array([[[1,2,3,4],[1,3,4,5]],[[2,4,7,5],[8,4,3,5]],[[2,5,7,3],[1,5,3,7]]]);\n",
    "# print(\"before:\\n\",b,\"\\nend\");\n",
    "c=np.sort(b,axis=1);\n",
    "rg=np.eye(3,6,0,dtype=np.int)\n",
    "a=np.arange(16).reshape(4,4)\n",
    "s=np.linalg.norm(b,axis=1);\n",
    "\n",
    "print(a*np.pi)\n",
    "print(random.random())\n",
    "print(np.sqrt(10))\n",
    "training_data = [(\"the wall street journal reported today that apple corporation made money\".split(),\n",
    "                    \"B I I I O O O B I O O\".split()),\n",
    "                    (\"georgia tech is a university in georgia\".split(), \"B I O O O O B\".split())]\n",
    "print(training_data)"
   ]
  },
  {
   "cell_type": "code",
   "execution_count": null,
   "metadata": {},
   "outputs": [],
   "source": []
  }
 ]
}