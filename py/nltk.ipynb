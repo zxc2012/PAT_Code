{
 "nbformat": 4,
 "nbformat_minor": 2,
 "metadata": {
  "language_info": {
   "name": "python",
   "codemirror_mode": {
    "name": "ipython",
    "version": 3
   },
   "version": "3.6.6"
  },
  "orig_nbformat": 2,
  "file_extension": ".py",
  "mimetype": "text/x-python",
  "name": "python",
  "npconvert_exporter": "python",
  "pygments_lexer": "ipython3",
  "version": 3
 },
 "cells": [
  {
   "cell_type": "code",
   "execution_count": 12,
   "metadata": {},
   "outputs": [
    {
     "data": {
      "text/plain": "<function dict.clear>"
     },
     "execution_count": 12,
     "metadata": {},
     "output_type": "execute_result"
    }
   ],
   "source": []
  },
  {
   "cell_type": "code",
   "execution_count": 1,
   "metadata": {},
   "outputs": [
    {
     "name": "stdout",
     "output_type": "stream",
     "text": "*** Introductory Examples for the NLTK Book ***\nLoading text1, ..., text9 and sent1, ..., sent9\nType the name of the text or sentence to view it.\nType: 'texts()' or 'sents()' to list the materials.\ntext1: Moby Dick by Herman Melville 1851\ntext2: Sense and Sensibility by Jane Austen 1811\ntext3: The Book of Genesis\ntext4: Inaugural Address Corpus\ntext5: Chat Corpus\ntext6: Monty Python and the Holy Grail\ntext7: Wall Street Journal\ntext8: Personals Corpus\ntext9: The Man Who Was Thursday by G . K . Chesterton 1908\nDisplaying 25 of 4736 matches:\nville 1851 ] ETYMOLOGY . ( Supplied by a Late Consumptive Usher to a Grammar Sc\nupplied by a Late Consumptive Usher to a Grammar School ) The pale Usher -- thr\ng his old lexicons and grammars , with a queer handkerchief , mockingly embelli\nthers , and to teach them by what name a whale - fish is to be called in our to\ntely from the Dut . and Ger . WALLEN ; A . S . WALW - IAN , to roll , to wallow\n, ERROMANGOAN . EXTRACTS ( Supplied by a Sub - Sub - Librarian ). It will be se\nainstaking burrower and grub - worm of a poor devil of a Sub - Sub appears to h\nwer and grub - worm of a poor devil of a Sub - Sub appears to have gone through\naluable or entertaining , as affording a glancing bird ' s eye view of what has\nwn . So fare thee well , poor devil of a Sub - Sub , whose commentator I am . T\nles .\" -- GENESIS . \" Leviathan maketh a path to shine after him ; One would th\n\" -- JOB . \" Now the Lord had prepared a great fish to swallow up Jonah .\" -- J\no days on the sea , when about sunrise a great many Whales and other monsters o\npeared . Among the former , one was of a most monstrous size . ... This came to\n , and beating the sea before him into a foam .\" -- TOOKE ' S LUCIAN . \" THE TR\n.\" \" He visited this country also with a view of catching horse - whales , whic\nN DOWN FROM HIS MOUTH BY KING ALFRED , A . D . 890 . \" And whereas all the othe\n bruise .\" -- KING HENRY . \" Very like a whale .\" -- HAMLET . \" Which to secure\nthe motion of whose vast bodies can in a peaceful calm trouble the ocean til it\nin his side he wears , And on his back a grove of pikes appears .\" -- WALLER ' \n created that great Leviathan , called a Commonwealth or State --( in Latin , C\nit without chewing , as if it had been a sprat in the mouth of a whale .\" -- PI\nif it had been a sprat in the mouth of a whale .\" -- PILGRIM ' S PROGRESS . \" T\ncreatures , in the deep Stretched like a promontory sleeps or swims , And seems\npromontory sleeps or swims , And seems a moving land ; and at his gills Draws i\n"
    }
   ],
   "source": [
    "import nltk\n",
    "from nltk.book import *\n",
    "text1.concordance(\"a\")"
   ]
  },
  {
   "cell_type": "code",
   "execution_count": 8,
   "metadata": {},
   "outputs": [
    {
     "name": "stderr",
     "output_type": "stream",
     "text": "Building ngram index...\nknew , had by this remembrance , and if , by rapid degrees , so long .\n, she could live without one another , and in her rambles . at least\nthe last evening of a brother , could you know , from the first .\nDashwood ? this gentleman himself , and must put up with a kindness\nwhich they are very much vexed at , for it -- and I shall keep it\nentirely . admire it\n"
    },
    {
     "data": {
      "text/plain": "'knew , had by this remembrance , and if , by rapid degrees , so long .\\n, she could live without one another , and in her rambles . at least\\nthe last evening of a brother , could you know , from the first .\\nDashwood ? this gentleman himself , and must put up with a kindness\\nwhich they are very much vexed at , for it -- and I shall keep it\\nentirely . admire it'"
     },
     "execution_count": 8,
     "metadata": {},
     "output_type": "execute_result"
    }
   ],
   "source": [
    "text2.generate(length=80)"
   ]
  },
  {
   "cell_type": "code",
   "execution_count": 11,
   "metadata": {},
   "outputs": [
    {
     "data": {
      "text/plain": "['In']"
     },
     "execution_count": 11,
     "metadata": {},
     "output_type": "execute_result"
    }
   ],
   "source": [
    "printf(text4.count(\"as\")/len(text4))"
   ]
  }
 ]
}